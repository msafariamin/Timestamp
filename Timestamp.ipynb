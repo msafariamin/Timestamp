{
 "cells": [
  {
   "cell_type": "code",
   "execution_count": 2,
   "metadata": {},
   "outputs": [],
   "source": [
    "import pandas as pd\n",
    "import dateutil"
   ]
  },
  {
   "cell_type": "code",
   "execution_count": 7,
   "metadata": {
    "scrolled": true
   },
   "outputs": [
    {
     "data": {
      "text/html": [
       "<div>\n",
       "<style scoped>\n",
       "    .dataframe tbody tr th:only-of-type {\n",
       "        vertical-align: middle;\n",
       "    }\n",
       "\n",
       "    .dataframe tbody tr th {\n",
       "        vertical-align: top;\n",
       "    }\n",
       "\n",
       "    .dataframe thead th {\n",
       "        text-align: right;\n",
       "    }\n",
       "</style>\n",
       "<table border=\"1\" class=\"dataframe\">\n",
       "  <thead>\n",
       "    <tr style=\"text-align: right;\">\n",
       "      <th></th>\n",
       "      <th>timestamp</th>\n",
       "      <th>work_item</th>\n",
       "      <th>work_type</th>\n",
       "      <th>work_priority</th>\n",
       "      <th>domain</th>\n",
       "      <th>platform</th>\n",
       "      <th>components</th>\n",
       "      <th>from_phase</th>\n",
       "      <th>to_phase</th>\n",
       "      <th>from_resource</th>\n",
       "      <th>to_resource</th>\n",
       "    </tr>\n",
       "  </thead>\n",
       "  <tbody>\n",
       "    <tr>\n",
       "      <th>0</th>\n",
       "      <td>2015-01-02 14:39:14</td>\n",
       "      <td>WI_000001</td>\n",
       "      <td>WT_00001</td>\n",
       "      <td>WP_00003</td>\n",
       "      <td>BD_00001</td>\n",
       "      <td>PL_00001</td>\n",
       "      <td>NaN</td>\n",
       "      <td>NaN</td>\n",
       "      <td>Analyze</td>\n",
       "      <td>NaN</td>\n",
       "      <td>ER_00043</td>\n",
       "    </tr>\n",
       "    <tr>\n",
       "      <th>1</th>\n",
       "      <td>2015-01-02 15:04:20</td>\n",
       "      <td>WI_000002</td>\n",
       "      <td>WT_00002</td>\n",
       "      <td>WP_00004</td>\n",
       "      <td>BD_00002</td>\n",
       "      <td>PL_00002</td>\n",
       "      <td>CO_00037/CO_00071</td>\n",
       "      <td>NaN</td>\n",
       "      <td>Analyze</td>\n",
       "      <td>NaN</td>\n",
       "      <td>ER_00225</td>\n",
       "    </tr>\n",
       "    <tr>\n",
       "      <th>2</th>\n",
       "      <td>2015-01-02 15:28:22</td>\n",
       "      <td>WI_000003</td>\n",
       "      <td>WT_00002</td>\n",
       "      <td>WP_00004</td>\n",
       "      <td>BD_00002</td>\n",
       "      <td>PL_00002</td>\n",
       "      <td>CO_00037/CO_00071</td>\n",
       "      <td>NaN</td>\n",
       "      <td>Analyze</td>\n",
       "      <td>NaN</td>\n",
       "      <td>ER_00225</td>\n",
       "    </tr>\n",
       "    <tr>\n",
       "      <th>3</th>\n",
       "      <td>2015-01-02 15:33:54</td>\n",
       "      <td>WI_000004</td>\n",
       "      <td>WT_00002</td>\n",
       "      <td>WP_00004</td>\n",
       "      <td>BD_00002</td>\n",
       "      <td>PL_00002</td>\n",
       "      <td>CO_00037/CO_00071</td>\n",
       "      <td>NaN</td>\n",
       "      <td>Analyze</td>\n",
       "      <td>NaN</td>\n",
       "      <td>ER_00225</td>\n",
       "    </tr>\n",
       "    <tr>\n",
       "      <th>4</th>\n",
       "      <td>2015-01-02 16:32:11</td>\n",
       "      <td>WI_000005</td>\n",
       "      <td>WT_00002</td>\n",
       "      <td>WP_00003</td>\n",
       "      <td>BD_00003</td>\n",
       "      <td>PL_00003</td>\n",
       "      <td>CO_00113</td>\n",
       "      <td>NaN</td>\n",
       "      <td>Analyze</td>\n",
       "      <td>NaN</td>\n",
       "      <td>ER_00206</td>\n",
       "    </tr>\n",
       "  </tbody>\n",
       "</table>\n",
       "</div>"
      ],
      "text/plain": [
       "            timestamp  work_item work_type work_priority    domain  platform  \\\n",
       "0 2015-01-02 14:39:14  WI_000001  WT_00001      WP_00003  BD_00001  PL_00001   \n",
       "1 2015-01-02 15:04:20  WI_000002  WT_00002      WP_00004  BD_00002  PL_00002   \n",
       "2 2015-01-02 15:28:22  WI_000003  WT_00002      WP_00004  BD_00002  PL_00002   \n",
       "3 2015-01-02 15:33:54  WI_000004  WT_00002      WP_00004  BD_00002  PL_00002   \n",
       "4 2015-01-02 16:32:11  WI_000005  WT_00002      WP_00003  BD_00003  PL_00003   \n",
       "\n",
       "          components from_phase to_phase from_resource to_resource  \n",
       "0                NaN        NaN  Analyze           NaN    ER_00043  \n",
       "1  CO_00037/CO_00071        NaN  Analyze           NaN    ER_00225  \n",
       "2  CO_00037/CO_00071        NaN  Analyze           NaN    ER_00225  \n",
       "3  CO_00037/CO_00071        NaN  Analyze           NaN    ER_00225  \n",
       "4           CO_00113        NaN  Analyze           NaN    ER_00206  "
      ]
     },
     "execution_count": 7,
     "metadata": {},
     "output_type": "execute_result"
    }
   ],
   "source": [
    "data = pd.read_excel('../DATA/20181130_Full_Dataset.xlsx')\n",
    "data.head()"
   ]
  },
  {
   "cell_type": "code",
   "execution_count": 10,
   "metadata": {},
   "outputs": [
    {
     "data": {
      "text/plain": [
       "85794"
      ]
     },
     "execution_count": 10,
     "metadata": {},
     "output_type": "execute_result"
    }
   ],
   "source": [
    "# number of rows\n",
    "data['work_item'].count()"
   ]
  },
  {
   "cell_type": "code",
   "execution_count": 27,
   "metadata": {},
   "outputs": [
    {
     "data": {
      "text/plain": [
       "123394401.0"
      ]
     },
     "execution_count": 27,
     "metadata": {},
     "output_type": "execute_result"
    }
   ],
   "source": [
    "# How many seconds of time are spended in total?\n",
    "a = data['timestamp'].max()\n",
    "b = data['timestamp'].min()\n",
    "(a-b).total_seconds()"
   ]
  },
  {
   "cell_type": "code",
   "execution_count": 37,
   "metadata": {},
   "outputs": [
    {
     "data": {
      "text/plain": [
       "2018-02-26 10:12:33    10\n",
       "2018-02-26 10:11:32    10\n",
       "2018-02-26 10:13:28     9\n",
       "2018-02-26 10:11:34     9\n",
       "2018-02-26 10:11:33     9\n",
       "Name: timestamp, dtype: int64"
      ]
     },
     "execution_count": 37,
     "metadata": {},
     "output_type": "execute_result"
    }
   ],
   "source": [
    "# How many entries are there for each date and hours?\n",
    "data['timestamp'].value_counts().head()\n",
    "# data['month'].value_counts()"
   ]
  },
  {
   "cell_type": "code",
   "execution_count": 40,
   "metadata": {},
   "outputs": [
    {
     "data": {
      "text/plain": [
       "WI_006500    34\n",
       "WI_004262    31\n",
       "WI_008786    31\n",
       "WI_011425    28\n",
       "WI_000911    27\n",
       "Name: work_item, dtype: int64"
      ]
     },
     "execution_count": 40,
     "metadata": {},
     "output_type": "execute_result"
    }
   ],
   "source": [
    "# How many entries are there for each ID?\n",
    "data['work_item'].value_counts().head()"
   ]
  },
  {
   "cell_type": "code",
   "execution_count": 56,
   "metadata": {},
   "outputs": [],
   "source": [
    "#TO = df['from_phase'].isnull()\n",
    "#TF = df['to_phase'].isnull()"
   ]
  },
  {
   "cell_type": "code",
   "execution_count": 58,
   "metadata": {},
   "outputs": [],
   "source": [
    "#data['to_phase'].fillna('end')\n",
    "#TF = data['to_phase']=='end'"
   ]
  },
  {
   "cell_type": "code",
   "execution_count": 44,
   "metadata": {},
   "outputs": [
    {
     "data": {
      "text/plain": [
       "<pandas.core.groupby.generic.DataFrameGroupBy object at 0x1207312b0>"
      ]
     },
     "execution_count": 44,
     "metadata": {},
     "output_type": "execute_result"
    }
   ],
   "source": [
    "data.groupby('timestamp')"
   ]
  },
  {
   "cell_type": "code",
   "execution_count": null,
   "metadata": {},
   "outputs": [],
   "source": [
    "def aggregation(x)->pd.Series:\n",
    "    names = {\n",
    "        'was_closed': max(x['to_phase'] == 'End'),\n",
    "        'nr_of_phases': len(x),  # Not counting the start phase\n",
    "        'unique_phases': x['from_phase'].nunique()  # Not counting the end phase\n",
    "        }\n",
    "    return pd.Series(names)"
   ]
  },
  {
   "cell_type": "code",
   "execution_count": null,
   "metadata": {},
   "outputs": [],
   "source": [
    "df.groupby('work_item')['to_phase'].agg(['was_closed','nr_of_phases','unique_phases'])"
   ]
  },
  {
   "cell_type": "code",
   "execution_count": null,
   "metadata": {},
   "outputs": [],
   "source": [
    "df.groupby('work_item', as_index=True).agg({\"to_phase\": \"count\",\"from_phase\":\"nunique\"})\n"
   ]
  },
  {
   "cell_type": "code",
   "execution_count": 59,
   "metadata": {},
   "outputs": [
    {
     "data": {
      "text/html": [
       "<div>\n",
       "<style scoped>\n",
       "    .dataframe tbody tr th:only-of-type {\n",
       "        vertical-align: middle;\n",
       "    }\n",
       "\n",
       "    .dataframe tbody tr th {\n",
       "        vertical-align: top;\n",
       "    }\n",
       "\n",
       "    .dataframe thead th {\n",
       "        text-align: right;\n",
       "    }\n",
       "</style>\n",
       "<table border=\"1\" class=\"dataframe\">\n",
       "  <thead>\n",
       "    <tr style=\"text-align: right;\">\n",
       "      <th></th>\n",
       "      <th>count</th>\n",
       "      <th>min</th>\n",
       "      <th>max</th>\n",
       "    </tr>\n",
       "    <tr>\n",
       "      <th>work_item</th>\n",
       "      <th></th>\n",
       "      <th></th>\n",
       "      <th></th>\n",
       "    </tr>\n",
       "  </thead>\n",
       "  <tbody>\n",
       "    <tr>\n",
       "      <th>WI_000001</th>\n",
       "      <td>12</td>\n",
       "      <td>Accept</td>\n",
       "      <td>end</td>\n",
       "    </tr>\n",
       "    <tr>\n",
       "      <th>WI_000002</th>\n",
       "      <td>4</td>\n",
       "      <td>Analyze</td>\n",
       "      <td>end</td>\n",
       "    </tr>\n",
       "    <tr>\n",
       "      <th>WI_000003</th>\n",
       "      <td>8</td>\n",
       "      <td>Analyze</td>\n",
       "      <td>end</td>\n",
       "    </tr>\n",
       "    <tr>\n",
       "      <th>WI_000004</th>\n",
       "      <td>8</td>\n",
       "      <td>Accept</td>\n",
       "      <td>end</td>\n",
       "    </tr>\n",
       "    <tr>\n",
       "      <th>WI_000005</th>\n",
       "      <td>8</td>\n",
       "      <td>Accept</td>\n",
       "      <td>end</td>\n",
       "    </tr>\n",
       "  </tbody>\n",
       "</table>\n",
       "</div>"
      ],
      "text/plain": [
       "           count      min  max\n",
       "work_item                     \n",
       "WI_000001     12   Accept  end\n",
       "WI_000002      4  Analyze  end\n",
       "WI_000003      8  Analyze  end\n",
       "WI_000004      8   Accept  end\n",
       "WI_000005      8   Accept  end"
      ]
     },
     "execution_count": 59,
     "metadata": {},
     "output_type": "execute_result"
    }
   ],
   "source": [
    "#count=nr_of_phase\n",
    "#unique_phases=df['from_phase'].nunique()\n",
    "mde=df.groupby('work_item')['to_phase'].agg(['count','min','max'])\n",
    "mde.head()"
   ]
  },
  {
   "cell_type": "code",
   "execution_count": 60,
   "metadata": {},
   "outputs": [
    {
     "data": {
      "text/html": [
       "<div>\n",
       "<style scoped>\n",
       "    .dataframe tbody tr th:only-of-type {\n",
       "        vertical-align: middle;\n",
       "    }\n",
       "\n",
       "    .dataframe tbody tr th {\n",
       "        vertical-align: top;\n",
       "    }\n",
       "\n",
       "    .dataframe thead th {\n",
       "        text-align: right;\n",
       "    }\n",
       "</style>\n",
       "<table border=\"1\" class=\"dataframe\">\n",
       "  <thead>\n",
       "    <tr style=\"text-align: right;\">\n",
       "      <th></th>\n",
       "      <th>timestamp</th>\n",
       "      <th>work_item</th>\n",
       "      <th>work_type</th>\n",
       "      <th>work_priority</th>\n",
       "      <th>domain</th>\n",
       "      <th>platform</th>\n",
       "      <th>components</th>\n",
       "      <th>from_phase</th>\n",
       "      <th>to_phase</th>\n",
       "      <th>from_resource</th>\n",
       "      <th>to_resource</th>\n",
       "    </tr>\n",
       "  </thead>\n",
       "  <tbody>\n",
       "    <tr>\n",
       "      <th>63</th>\n",
       "      <td>2015-01-06 09:18:30</td>\n",
       "      <td>WI_000013</td>\n",
       "      <td>WT_00002</td>\n",
       "      <td>WP_00002</td>\n",
       "      <td>BD_00005</td>\n",
       "      <td>PL_00005</td>\n",
       "      <td>CO_00141</td>\n",
       "      <td>Analyze</td>\n",
       "      <td>end</td>\n",
       "      <td>ER_00255</td>\n",
       "      <td>NaN</td>\n",
       "    </tr>\n",
       "    <tr>\n",
       "      <th>65</th>\n",
       "      <td>2015-01-06 09:20:33</td>\n",
       "      <td>WI_000033</td>\n",
       "      <td>WT_00002</td>\n",
       "      <td>WP_00002</td>\n",
       "      <td>BD_00003</td>\n",
       "      <td>PL_00003</td>\n",
       "      <td>CO_00113</td>\n",
       "      <td>Deploy</td>\n",
       "      <td>end</td>\n",
       "      <td>ER_00206</td>\n",
       "      <td>NaN</td>\n",
       "    </tr>\n",
       "    <tr>\n",
       "      <th>97</th>\n",
       "      <td>2015-01-06 13:24:41</td>\n",
       "      <td>WI_000034</td>\n",
       "      <td>WT_00002</td>\n",
       "      <td>WP_00002</td>\n",
       "      <td>BD_00003</td>\n",
       "      <td>PL_00003</td>\n",
       "      <td>CO_00113</td>\n",
       "      <td>Deploy</td>\n",
       "      <td>end</td>\n",
       "      <td>ER_00206</td>\n",
       "      <td>NaN</td>\n",
       "    </tr>\n",
       "    <tr>\n",
       "      <th>111</th>\n",
       "      <td>2015-01-06 14:03:06</td>\n",
       "      <td>WI_000036</td>\n",
       "      <td>WT_00002</td>\n",
       "      <td>WP_00003</td>\n",
       "      <td>BD_00001</td>\n",
       "      <td>PL_00001</td>\n",
       "      <td>NaN</td>\n",
       "      <td>Deploy</td>\n",
       "      <td>end</td>\n",
       "      <td>ER_00043</td>\n",
       "      <td>NaN</td>\n",
       "    </tr>\n",
       "    <tr>\n",
       "      <th>113</th>\n",
       "      <td>2015-01-06 14:51:17</td>\n",
       "      <td>WI_000035</td>\n",
       "      <td>WT_00002</td>\n",
       "      <td>WP_00002</td>\n",
       "      <td>BD_00005</td>\n",
       "      <td>PL_00005</td>\n",
       "      <td>CO_00141</td>\n",
       "      <td>Analyze</td>\n",
       "      <td>end</td>\n",
       "      <td>ER_00255</td>\n",
       "      <td>NaN</td>\n",
       "    </tr>\n",
       "  </tbody>\n",
       "</table>\n",
       "</div>"
      ],
      "text/plain": [
       "              timestamp  work_item work_type work_priority    domain  \\\n",
       "63  2015-01-06 09:18:30  WI_000013  WT_00002      WP_00002  BD_00005   \n",
       "65  2015-01-06 09:20:33  WI_000033  WT_00002      WP_00002  BD_00003   \n",
       "97  2015-01-06 13:24:41  WI_000034  WT_00002      WP_00002  BD_00003   \n",
       "111 2015-01-06 14:03:06  WI_000036  WT_00002      WP_00003  BD_00001   \n",
       "113 2015-01-06 14:51:17  WI_000035  WT_00002      WP_00002  BD_00005   \n",
       "\n",
       "     platform components from_phase to_phase from_resource to_resource  \n",
       "63   PL_00005   CO_00141    Analyze      end      ER_00255         NaN  \n",
       "65   PL_00003   CO_00113     Deploy      end      ER_00206         NaN  \n",
       "97   PL_00003   CO_00113     Deploy      end      ER_00206         NaN  \n",
       "111  PL_00001        NaN     Deploy      end      ER_00043         NaN  \n",
       "113  PL_00005   CO_00141    Analyze      end      ER_00255         NaN  "
      ]
     },
     "execution_count": 60,
     "metadata": {},
     "output_type": "execute_result"
    }
   ],
   "source": [
    "ai=df[(df.to_phase=='end')&df['work_item']]\n",
    "ai.head()"
   ]
  },
  {
   "cell_type": "code",
   "execution_count": null,
   "metadata": {},
   "outputs": [],
   "source": [
    "#from os import path as os_path\n",
    "#PATH = os_path.abspath(os_path.split(__file__)[0])"
   ]
  },
  {
   "cell_type": "code",
   "execution_count": 61,
   "metadata": {},
   "outputs": [
    {
     "data": {
      "text/plain": [
       "8"
      ]
     },
     "execution_count": 61,
     "metadata": {},
     "output_type": "execute_result"
    }
   ],
   "source": [
    "unique_phases=df['from_phase'].nunique()\n",
    "unique_phases"
   ]
  },
  {
   "cell_type": "code",
   "execution_count": 62,
   "metadata": {},
   "outputs": [
    {
     "data": {
      "text/plain": [
       "0    False\n",
       "1    False\n",
       "2    False\n",
       "3    False\n",
       "4    False\n",
       "Name: to_phase, dtype: bool"
      ]
     },
     "execution_count": 62,
     "metadata": {},
     "output_type": "execute_result"
    }
   ],
   "source": [
    "was_closed = df['to_phase']=='end'\n",
    "was_closed.head()"
   ]
  },
  {
   "cell_type": "code",
   "execution_count": 63,
   "metadata": {},
   "outputs": [
    {
     "data": {
      "text/html": [
       "<div>\n",
       "<style scoped>\n",
       "    .dataframe tbody tr th:only-of-type {\n",
       "        vertical-align: middle;\n",
       "    }\n",
       "\n",
       "    .dataframe tbody tr th {\n",
       "        vertical-align: top;\n",
       "    }\n",
       "\n",
       "    .dataframe thead th {\n",
       "        text-align: right;\n",
       "    }\n",
       "</style>\n",
       "<table border=\"1\" class=\"dataframe\">\n",
       "  <thead>\n",
       "    <tr style=\"text-align: right;\">\n",
       "      <th></th>\n",
       "      <th>work_item</th>\n",
       "    </tr>\n",
       "    <tr>\n",
       "      <th>to_phase</th>\n",
       "      <th></th>\n",
       "    </tr>\n",
       "  </thead>\n",
       "  <tbody>\n",
       "    <tr>\n",
       "      <th>False</th>\n",
       "      <td>NaN</td>\n",
       "    </tr>\n",
       "    <tr>\n",
       "      <th>False</th>\n",
       "      <td>NaN</td>\n",
       "    </tr>\n",
       "    <tr>\n",
       "      <th>False</th>\n",
       "      <td>NaN</td>\n",
       "    </tr>\n",
       "    <tr>\n",
       "      <th>False</th>\n",
       "      <td>NaN</td>\n",
       "    </tr>\n",
       "    <tr>\n",
       "      <th>False</th>\n",
       "      <td>NaN</td>\n",
       "    </tr>\n",
       "  </tbody>\n",
       "</table>\n",
       "</div>"
      ],
      "text/plain": [
       "         work_item\n",
       "to_phase          \n",
       "False          NaN\n",
       "False          NaN\n",
       "False          NaN\n",
       "False          NaN\n",
       "False          NaN"
      ]
     },
     "execution_count": 63,
     "metadata": {},
     "output_type": "execute_result"
    }
   ],
   "source": [
    "dfg=pd.DataFrame(df['work_item'],df['to_phase']=='end')\n",
    "dfg.head()"
   ]
  },
  {
   "cell_type": "code",
   "execution_count": 64,
   "metadata": {},
   "outputs": [
    {
     "data": {
      "text/html": [
       "<div>\n",
       "<style scoped>\n",
       "    .dataframe tbody tr th:only-of-type {\n",
       "        vertical-align: middle;\n",
       "    }\n",
       "\n",
       "    .dataframe tbody tr th {\n",
       "        vertical-align: top;\n",
       "    }\n",
       "\n",
       "    .dataframe thead th {\n",
       "        text-align: right;\n",
       "    }\n",
       "</style>\n",
       "<table border=\"1\" class=\"dataframe\">\n",
       "  <thead>\n",
       "    <tr style=\"text-align: right;\">\n",
       "      <th>to_phase</th>\n",
       "      <th>False</th>\n",
       "      <th>True</th>\n",
       "    </tr>\n",
       "    <tr>\n",
       "      <th>work_item</th>\n",
       "      <th></th>\n",
       "      <th></th>\n",
       "    </tr>\n",
       "  </thead>\n",
       "  <tbody>\n",
       "    <tr>\n",
       "      <th>WI_000001</th>\n",
       "      <td>11</td>\n",
       "      <td>1</td>\n",
       "    </tr>\n",
       "    <tr>\n",
       "      <th>WI_000002</th>\n",
       "      <td>3</td>\n",
       "      <td>1</td>\n",
       "    </tr>\n",
       "    <tr>\n",
       "      <th>WI_000003</th>\n",
       "      <td>7</td>\n",
       "      <td>1</td>\n",
       "    </tr>\n",
       "    <tr>\n",
       "      <th>WI_000004</th>\n",
       "      <td>7</td>\n",
       "      <td>1</td>\n",
       "    </tr>\n",
       "    <tr>\n",
       "      <th>WI_000005</th>\n",
       "      <td>7</td>\n",
       "      <td>1</td>\n",
       "    </tr>\n",
       "  </tbody>\n",
       "</table>\n",
       "</div>"
      ],
      "text/plain": [
       "to_phase   False  True \n",
       "work_item              \n",
       "WI_000001     11      1\n",
       "WI_000002      3      1\n",
       "WI_000003      7      1\n",
       "WI_000004      7      1\n",
       "WI_000005      7      1"
      ]
     },
     "execution_count": 64,
     "metadata": {},
     "output_type": "execute_result"
    }
   ],
   "source": [
    "dfg=pd.crosstab(df['work_item'],df['to_phase']=='end')\n",
    "dfg.head()"
   ]
  },
  {
   "cell_type": "code",
   "execution_count": 65,
   "metadata": {},
   "outputs": [
    {
     "data": {
      "text/plain": [
       "63     WI_000013\n",
       "65     WI_000033\n",
       "97     WI_000034\n",
       "111    WI_000036\n",
       "113    WI_000035\n",
       "Name: work_item, dtype: object"
      ]
     },
     "execution_count": 65,
     "metadata": {},
     "output_type": "execute_result"
    }
   ],
   "source": [
    "df[df.to_phase=='end']['work_item'].head()"
   ]
  },
  {
   "cell_type": "code",
   "execution_count": null,
   "metadata": {},
   "outputs": [],
   "source": [
    "date1=dfnew['entry_time'][0]\n",
    "date2=dfnew['exit_time'][0]\n",
    "#for each row of column"
   ]
  }
 ],
 "metadata": {
  "kernelspec": {
   "display_name": "Python 3",
   "language": "python",
   "name": "python3"
  },
  "language_info": {
   "codemirror_mode": {
    "name": "ipython",
    "version": 3
   },
   "file_extension": ".py",
   "mimetype": "text/x-python",
   "name": "python",
   "nbconvert_exporter": "python",
   "pygments_lexer": "ipython3",
   "version": "3.7.3"
  }
 },
 "nbformat": 4,
 "nbformat_minor": 2
}
